{
 "cells": [
  {
   "cell_type": "code",
   "execution_count": 2,
   "metadata": {},
   "outputs": [
    {
     "name": "stdout",
     "output_type": "stream",
     "text": [
      "aps_vector.txt.npy  eval     playground     ssd.py\t    utils\r\n",
      "data\t\t    eval.py  __pycache__    test.py\t    weights\r\n",
      "demo\t\t    layers   README.md\t    train.py\r\n",
      "doc\t\t    LICENSE  ssd300_120000  Untitled.ipynb\r\n"
     ]
    }
   ],
   "source": []
  },
  {
   "cell_type": "code",
   "execution_count": 3,
   "metadata": {},
   "outputs": [
    {
     "data": {
      "image/png": "[encoded data removed]",
      "text/plain": [
       "<Figure size 432x288 with 1 Axes>"
      ]
     },
     "metadata": {},
     "output_type": "display_data"
    }
   ],
   "source": [
    "import matplotlib.pyplot as plt\n",
    "import numpy as np\n",
    "\n",
    "aps_vector =np.load('aps_vector.npy')\n",
    "plt.plot(aps_vector)\n",
    "plt.grid()\n",
    "plt.title('mAP plot')\n",
    "plt.xlabel('recall')\n",
    "plt.ylabel('precision')\n",
    "plt.xlim([0,1])\n",
    "plt.ylim([0,1])\n",
    "plt.show()"
   ]
  },
  {
   "cell_type": "code",
   "execution_count": 5,
   "metadata": {},
   "outputs": [
    {
     "name": "stdout",
     "output_type": "stream",
     "text": [
      "No manual entry for jupyter\r\n",
      "See 'man 7 undocumented' for help when manual pages are not available.\r\n",
      "No manual entry for nbconvert\r\n"
     ]
    }
   ],
   "source": [
    "!man jupyter nbconvert"
   ]
  },
  {
   "cell_type": "code",
   "execution_count": 11,
   "metadata": {},
   "outputs": [
    {
     "name": "stdout",
     "output_type": "stream",
     "text": [
      "[NbConvertApp] Converting notebook mAP_plot.ipynb to python\n",
      "[NbConvertApp] Writing 369 bytes to mAP_plot.py\n"
     ]
    }
   ],
   "source": [
    "!jupyter nbconvert --to python mAP_plot.ipynb"
   ]
  },
  {
   "cell_type": "code",
   "execution_count": 12,
   "metadata": {},
   "outputs": [
    {
     "name": "stdout",
     "output_type": "stream",
     "text": [
      "aps_vector.txt.npy  eval     mAP_plot.ipynb  README.md\t    train.py\r\n",
      "data\t\t    eval.py  mAP_plot.py     ssd300_120000  utils\r\n",
      "demo\t\t    layers   playground      ssd.py\t    weights\r\n",
      "doc\t\t    LICENSE  __pycache__     test.py\r\n"
     ]
    }
   ],
   "source": []
  }
 ],
 "metadata": {
  "kernelspec": {
   "display_name": "Python 3",
   "language": "python",
   "name": "python3"
  },
  "language_info": {
   "codemirror_mode": {
    "name": "ipython",
    "version": 3
   },
   "file_extension": ".py",
   "mimetype": "text/x-python",
   "name": "python",
   "nbconvert_exporter": "python",
   "pygments_lexer": "ipython3",
   "version": "3.6.5"
  }
 },
 "nbformat": 4,
 "nbformat_minor": 2
}
