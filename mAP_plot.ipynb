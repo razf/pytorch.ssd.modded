{
 "cells": [
  {
   "cell_type": "code",
   "execution_count": null,
   "metadata": {},
   "outputs": [],
   "source": []
  },
  {
   "cell_type": "code",
   "execution_count": 1,
   "metadata": {},
   "outputs": [
    {
     "name": "stdout",
     "output_type": "stream",
     "text": [
      "0\n",
      "(1001,)\n",
      "(1001,)\n",
      "1\n",
      "(1001,)\n",
      "(1001,)\n",
      "2\n",
      "(1001,)\n",
      "(1001,)\n",
      "3\n",
      "(1001,)\n",
      "(1001,)\n",
      "4\n",
      "(1001,)\n",
      "(1001,)\n",
      "5\n",
      "(1001,)\n",
      "(1001,)\n"
     ]
    },
    {
     "data": {
      "text/plain": [
       "<Figure size 640x480 with 6 Axes>"
      ]
     },
     "metadata": {},
     "output_type": "display_data"
    }
   ],
   "source": [
    "\n",
    "import matplotlib.pyplot as plt\n",
    "import numpy as np\n",
    "#from data import STANFORD_CLASSES\n",
    "\n",
    "jump=0.001\n",
    "aprox_recall_vec = np.arange(0,1+jump,jump)\n",
    "aprox_prec_vec =np.load('aprox_prec_vec.npy')\n",
    "f, axarr = plt.subplots(6, 1,sharex=True)\n",
    "\n",
    "for i in range(aprox_prec_vec.shape[0]):\n",
    "    print(i)\n",
    "    print(aprox_recall_vec.shape)\n",
    "    print(aprox_prec_vec[i,:].shape)\n",
    "    axarr[i].plot(aprox_recall_vec, aprox_prec_vec[i,:])\n",
    "    #axarr[i, 0].set_title('Precision vs Recall - ' STANFORD_CLASSES.keys()[i])\n",
    "    plt.xlim([0,1])\n",
    "    plt.ylim([0,1])\n",
    "    axarr[i].grid()\n",
    "    plt.xlabel('recall')\n",
    "    plt.ylabel('precision')\n",
    "plt.show()\n"
   ]
  },
  {
   "cell_type": "code",
   "execution_count": null,
   "metadata": {},
   "outputs": [],
   "source": []
  },
  {
   "cell_type": "code",
   "execution_count": 2,
   "metadata": {},
   "outputs": [
    {
     "name": "stdout",
     "output_type": "stream",
     "text": [
      "[NbConvertApp] Converting notebook mAP_plot.ipynb to python\n",
      "[NbConvertApp] Writing 786 bytes to mAP_plot.py\n"
     ]
    }
   ],
   "source": [
    "!rm mAP_plot.py\n",
    "!jupyter nbconvert --to python mAP_plot.ipynb"
   ]
  },
  {
   "cell_type": "code",
   "execution_count": null,
   "metadata": {},
   "outputs": [],
   "source": []
  },
  {
   "cell_type": "code",
   "execution_count": null,
   "metadata": {},
   "outputs": [],
   "source": []
  }
 ],
 "metadata": {
  "kernelspec": {
   "display_name": "Python 3",
   "language": "python",
   "name": "python3"
  },
  "language_info": {
   "codemirror_mode": {
    "name": "ipython",
    "version": 3
   },
   "file_extension": ".py",
   "mimetype": "text/x-python",
   "name": "python",
   "nbconvert_exporter": "python",
   "pygments_lexer": "ipython3",
   "version": "3.6.4"
  }
 },
 "nbformat": 4,
 "nbformat_minor": 2
}
